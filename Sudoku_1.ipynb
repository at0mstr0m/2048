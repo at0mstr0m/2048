{
 "cells": [
  {
   "cell_type": "code",
   "execution_count": 1,
   "metadata": {},
   "outputs": [
    {
     "name": "stdout",
     "output_type": "stream",
     "text": [
      "[[0 6 0 0 3 5 0 4 0]\n",
      " [3 8 2 0 0 0 0 0 0]\n",
      " [0 0 0 0 0 1 0 0 6]\n",
      " [0 0 0 0 1 2 8 0 0]\n",
      " [0 0 9 0 8 0 7 0 4]\n",
      " [0 0 6 0 0 0 0 0 0]\n",
      " [0 9 0 4 0 0 1 0 2]\n",
      " [0 3 0 5 0 0 0 0 9]\n",
      " [0 4 0 0 0 3 0 0 5]]\n"
     ]
    }
   ],
   "source": [
    "import numpy as np\n",
    "\n",
    "\n",
    "sudoku = [[0,6,0,0,3,5,0,4,0],\n",
    "          [3,8,2,0,0,0,0,0,0],\n",
    "          [0,0,0,0,0,1,0,0,6],\n",
    "          [0,0,0,0,1,2,8,0,0],\n",
    "          [0,0,9,0,8,0,7,0,4],\n",
    "          [0,0,6,0,0,0,0,0,0],\n",
    "          [0,9,0,4,0,0,1,0,2],\n",
    "          [0,3,0,5,0,0,0,0,9],\n",
    "          [0,4,0,0,0,3,0,0,5]]\n",
    "\n",
    "print(np.matrix(sudoku))"
   ]
  },
  {
   "cell_type": "code",
   "execution_count": 2,
   "metadata": {},
   "outputs": [
    {
     "data": {
      "text/plain": [
       "True"
      ]
     },
     "execution_count": 2,
     "metadata": {},
     "output_type": "execute_result"
    }
   ],
   "source": [
    "def possible (x,y,n):\n",
    "    global sudoku\n",
    "    \n",
    "    # checkt die Reihe\n",
    "    for i in range (0,9):\n",
    "        if sudoku[y][i] == n:\n",
    "            return False\n",
    "    \n",
    "    # checkt die Spalte\n",
    "    for i in range (0,9):\n",
    "        if sudoku[i][x] == n:\n",
    "            return False\n",
    "        \n",
    "    # checkt den Block    \n",
    "    x0 = (x//3)*3\n",
    "    y0 = (y//3)*3\n",
    "    \n",
    "    for i in range (0,3):\n",
    "        for j in range (0,3):\n",
    "            if sudoku[y0+i][x0+j] == n:\n",
    "                return False\n",
    "    return True\n",
    "\n",
    "possible(0,0,9)"
   ]
  },
  {
   "cell_type": "code",
   "execution_count": null,
   "metadata": {},
   "outputs": [],
   "source": [
    "def solve():\n",
    "    global sudoku\n",
    "    \n",
    "    for y in range(9):\n",
    "        for x in range(9):\n",
    "            if sudoku[y][x] == 0:\n",
    "                for n in range(1,10):\n",
    "                    if possible(y,x,n):\n",
    "                        sudoku[y][x] = n\n",
    "                        solve()\n",
    "                        sudoku[y][x] = 0\n",
    "                return\n",
    "    print(np.matrix(sudoku))\n",
    "    input(\"More?\")\n",
    "    \n",
    "solve()"
   ]
  },
  {
   "cell_type": "code",
   "execution_count": null,
   "metadata": {},
   "outputs": [],
   "source": []
  },
  {
   "cell_type": "code",
   "execution_count": null,
   "metadata": {},
   "outputs": [],
   "source": []
  }
 ],
 "metadata": {
  "kernelspec": {
   "display_name": "Python 3",
   "language": "python",
   "name": "python3"
  },
  "language_info": {
   "codemirror_mode": {
    "name": "ipython",
    "version": 3
   },
   "file_extension": ".py",
   "mimetype": "text/x-python",
   "name": "python",
   "nbconvert_exporter": "python",
   "pygments_lexer": "ipython3",
   "version": "3.8.3"
  }
 },
 "nbformat": 4,
 "nbformat_minor": 4
}
